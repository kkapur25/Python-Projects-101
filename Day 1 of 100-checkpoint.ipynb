{
 "cells": [
  {
   "cell_type": "code",
   "execution_count": 12,
   "id": "eff75e1f",
   "metadata": {
    "scrolled": true
   },
   "outputs": [
    {
     "name": "stdout",
     "output_type": "stream",
     "text": [
      "Welcome to band name generator.\n",
      "Enter the name of the city you gew up in?\n",
      "Karnal\n",
      "What is the name of your pet?\n",
      "ll\n",
      "Your band name could be Karnal ll\n"
     ]
    }
   ],
   "source": [
    "#Band Name Generator\n",
    "print(\"Welcome to band name generator.\")\n",
    "user_city = input(\"Enter the name of the city you gew up in?\\n\")\n",
    "user_pet_name = input(\"What is the name of your pet?\\n\")\n",
    "band_name = user_city + \" \" + user_pet_name\n",
    "print(\"Your band name could be \" + band_name)"
   ]
  }
 ],
 "metadata": {
  "kernelspec": {
   "display_name": "Python 3 (ipykernel)",
   "language": "python",
   "name": "python3"
  },
  "language_info": {
   "codemirror_mode": {
    "name": "ipython",
    "version": 3
   },
   "file_extension": ".py",
   "mimetype": "text/x-python",
   "name": "python",
   "nbconvert_exporter": "python",
   "pygments_lexer": "ipython3",
   "version": "3.9.12"
  }
 },
 "nbformat": 4,
 "nbformat_minor": 5
}
